{
 "cells": [
  {
   "cell_type": "code",
   "execution_count": 9,
   "metadata": {},
   "outputs": [],
   "source": [
    "import pandas as pd\n",
    "import numpy as np\n",
    "import matplotlib.pyplot as plt\n",
    "%matplotlib inline"
   ]
  },
  {
   "cell_type": "code",
   "execution_count": 6,
   "metadata": {},
   "outputs": [
    {
     "data": {
      "text/html": [
       "<div>\n",
       "<style scoped>\n",
       "    .dataframe tbody tr th:only-of-type {\n",
       "        vertical-align: middle;\n",
       "    }\n",
       "\n",
       "    .dataframe tbody tr th {\n",
       "        vertical-align: top;\n",
       "    }\n",
       "\n",
       "    .dataframe thead th {\n",
       "        text-align: right;\n",
       "    }\n",
       "</style>\n",
       "<table border=\"1\" class=\"dataframe\">\n",
       "  <thead>\n",
       "    <tr style=\"text-align: right;\">\n",
       "      <th></th>\n",
       "      <th>0</th>\n",
       "      <th>1</th>\n",
       "      <th>2</th>\n",
       "    </tr>\n",
       "  </thead>\n",
       "  <tbody>\n",
       "    <tr>\n",
       "      <th>0</th>\n",
       "      <td>34.623660</td>\n",
       "      <td>78.024693</td>\n",
       "      <td>0</td>\n",
       "    </tr>\n",
       "    <tr>\n",
       "      <th>1</th>\n",
       "      <td>30.286711</td>\n",
       "      <td>43.894998</td>\n",
       "      <td>0</td>\n",
       "    </tr>\n",
       "    <tr>\n",
       "      <th>2</th>\n",
       "      <td>35.847409</td>\n",
       "      <td>72.902198</td>\n",
       "      <td>0</td>\n",
       "    </tr>\n",
       "    <tr>\n",
       "      <th>3</th>\n",
       "      <td>60.182599</td>\n",
       "      <td>86.308552</td>\n",
       "      <td>1</td>\n",
       "    </tr>\n",
       "    <tr>\n",
       "      <th>4</th>\n",
       "      <td>79.032736</td>\n",
       "      <td>75.344376</td>\n",
       "      <td>1</td>\n",
       "    </tr>\n",
       "  </tbody>\n",
       "</table>\n",
       "</div>"
      ],
      "text/plain": [
       "           0          1  2\n",
       "0  34.623660  78.024693  0\n",
       "1  30.286711  43.894998  0\n",
       "2  35.847409  72.902198  0\n",
       "3  60.182599  86.308552  1\n",
       "4  79.032736  75.344376  1"
      ]
     },
     "execution_count": 6,
     "metadata": {},
     "output_type": "execute_result"
    }
   ],
   "source": [
    "data = pd.read_csv('ex2data1.txt',header = None)\n",
    "data.head()"
   ]
  },
  {
   "cell_type": "code",
   "execution_count": 20,
   "metadata": {},
   "outputs": [
    {
     "data": {
      "text/plain": [
       "[<matplotlib.lines.Line2D at 0x1fd9aa63dd8>]"
      ]
     },
     "execution_count": 20,
     "metadata": {},
     "output_type": "execute_result"
    },
    {
     "data": {
      "image/png": "[encoded data removed]",
      "text/plain": [
       "<matplotlib.figure.Figure at 0x1fd9aa7f9b0>"
      ]
     },
     "metadata": {},
     "output_type": "display_data"
    }
   ],
   "source": [
    "groupT = data[(data[2] == 0)]\n",
    "groupF = data[(data[2] == 1)]\n",
    "plt.plot(groupT[0].values,groupT[1].values, 'yo')\n",
    "plt.plot(groupF[0].values,groupF[1].values, 'k*')"
   ]
  },
  {
   "cell_type": "code",
   "execution_count": 142,
   "metadata": {},
   "outputs": [
    {
     "name": "stdout",
     "output_type": "stream",
     "text": [
      "(2, 1)\n"
     ]
    },
    {
     "data": {
      "text/plain": [
       "array([[-0.69314718],\n",
       "       [-0.69314718],\n",
       "       [-0.69314718],\n",
       "       [-0.69314718],\n",
       "       [-0.69314718],\n",
       "       [-0.69314718],\n",
       "       [-0.69314718],\n",
       "       [-0.69314718],\n",
       "       [-0.69314718],\n",
       "       [-0.69314718],\n",
       "       [-0.69314718],\n",
       "       [-0.69314718],\n",
       "       [-0.69314718],\n",
       "       [-0.69314718],\n",
       "       [-0.69314718],\n",
       "       [-0.69314718],\n",
       "       [-0.69314718],\n",
       "       [-0.69314718],\n",
       "       [-0.69314718],\n",
       "       [-0.69314718],\n",
       "       [-0.69314718],\n",
       "       [-0.69314718],\n",
       "       [-0.69314718],\n",
       "       [-0.69314718],\n",
       "       [-0.69314718],\n",
       "       [-0.69314718],\n",
       "       [-0.69314718],\n",
       "       [-0.69314718],\n",
       "       [-0.69314718],\n",
       "       [-0.69314718],\n",
       "       [-0.69314718],\n",
       "       [-0.69314718],\n",
       "       [-0.69314718],\n",
       "       [-0.69314718],\n",
       "       [-0.69314718],\n",
       "       [-0.69314718],\n",
       "       [-0.69314718],\n",
       "       [-0.69314718],\n",
       "       [-0.69314718],\n",
       "       [-0.69314718],\n",
       "       [-0.69314718],\n",
       "       [-0.69314718],\n",
       "       [-0.69314718],\n",
       "       [-0.69314718],\n",
       "       [-0.69314718],\n",
       "       [-0.69314718],\n",
       "       [-0.69314718],\n",
       "       [-0.69314718],\n",
       "       [-0.69314718],\n",
       "       [-0.69314718],\n",
       "       [-0.69314718],\n",
       "       [-0.69314718],\n",
       "       [-0.69314718],\n",
       "       [-0.69314718],\n",
       "       [-0.69314718],\n",
       "       [-0.69314718],\n",
       "       [-0.69314718],\n",
       "       [-0.69314718],\n",
       "       [-0.69314718],\n",
       "       [-0.69314718],\n",
       "       [-0.69314718],\n",
       "       [-0.69314718],\n",
       "       [-0.69314718],\n",
       "       [-0.69314718],\n",
       "       [-0.69314718],\n",
       "       [-0.69314718],\n",
       "       [-0.69314718],\n",
       "       [-0.69314718],\n",
       "       [-0.69314718],\n",
       "       [-0.69314718],\n",
       "       [-0.69314718],\n",
       "       [-0.69314718],\n",
       "       [-0.69314718],\n",
       "       [-0.69314718],\n",
       "       [-0.69314718],\n",
       "       [-0.69314718],\n",
       "       [-0.69314718],\n",
       "       [-0.69314718],\n",
       "       [-0.69314718],\n",
       "       [-0.69314718],\n",
       "       [-0.69314718],\n",
       "       [-0.69314718],\n",
       "       [-0.69314718],\n",
       "       [-0.69314718],\n",
       "       [-0.69314718],\n",
       "       [-0.69314718],\n",
       "       [-0.69314718],\n",
       "       [-0.69314718],\n",
       "       [-0.69314718],\n",
       "       [-0.69314718],\n",
       "       [-0.69314718],\n",
       "       [-0.69314718],\n",
       "       [-0.69314718],\n",
       "       [-0.69314718],\n",
       "       [-0.69314718],\n",
       "       [-0.69314718],\n",
       "       [-0.69314718],\n",
       "       [-0.69314718],\n",
       "       [-0.69314718],\n",
       "       [-0.69314718]])"
      ]
     },
     "execution_count": 142,
     "metadata": {},
     "output_type": "execute_result"
    }
   ],
   "source": [
    "def sigmoid(x):\n",
    "    return 1/(1+1/np.exp(x))\n",
    "def hFunction(x,theta):\n",
    "    newX = np.append(np.ones((x.size,1)),x.reshape(x.size,1),axis =1)\n",
    "    return sigmoid(np.dot(newX,theta))\n",
    "def costFunction(x,y,theta):\n",
    "    hFunc = hFunction(x,theta)\n",
    "    return (np.multiply(np.log(hFunc),y.reshape(y.size,1))+np.multiply(np.log(1-hFunc),(1-y).reshape(y.size,1))).sum()*-1/x.size\n",
    "def gradient(x,y,theta):\n",
    "    newX = np.append(np.ones((x.size,1)),x.reshape(x.size,1),axis =1)    \n",
    "    return (1/x.size)*(np.dot((hFunction(x,theta)-y.reshape(y.size,1)).T,newX))\n",
    "theta = np.zeros((2,1))\n",
    "print(theta.shape)\n",
    "x = data[0].values\n",
    "y = data[1].values\n",
    "alpha = .000000001\n",
    "hFunc = hFunction(x,theta)\n",
    "costFunction(x,y,theta)\n",
    "#for i in range(0,100):\n",
    "#    gradient(x,y,theta)\n",
    "#    theta = theta-alpha*gradient(x,y,theta)\n",
    "newX = np.append(np.ones((x.size,1)),x.reshape(x.size,1),axis =1)\n",
    "hFunc = hFunction(x,theta)\n",
    "(np.multiply(np.log(hFunc),y.reshape(y.size,1))+np.multiply(np.log(1-hFunc),(1-y).reshape(y.size,1)))"
   ]
  },
  {
   "cell_type": "code",
   "execution_count": null,
   "metadata": {},
   "outputs": [],
   "source": []
  },
  {
   "cell_type": "code",
   "execution_count": null,
   "metadata": {},
   "outputs": [],
   "source": []
  }
 ],
 "metadata": {
  "kernelspec": {
   "display_name": "Python 3",
   "language": "python",
   "name": "python3"
  },
  "language_info": {
   "codemirror_mode": {
    "name": "ipython",
    "version": 3
   },
   "file_extension": ".py",
   "mimetype": "text/x-python",
   "name": "python",
   "nbconvert_exporter": "python",
   "pygments_lexer": "ipython3",
   "version": "3.6.4"
  }
 },
 "nbformat": 4,
 "nbformat_minor": 2
}
